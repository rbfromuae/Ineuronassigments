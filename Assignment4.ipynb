{
  "nbformat": 4,
  "nbformat_minor": 0,
  "metadata": {
    "colab": {
      "name": "Assignment4.ipynb",
      "provenance": [],
      "collapsed_sections": [],
      "authorship_tag": "ABX9TyMWLpenECGFKNqf1yVeIBrJ",
      "include_colab_link": true
    },
    "kernelspec": {
      "name": "python3",
      "display_name": "Python 3"
    },
    "language_info": {
      "name": "python"
    }
  },
  "cells": [
    {
      "cell_type": "markdown",
      "metadata": {
        "id": "view-in-github",
        "colab_type": "text"
      },
      "source": [
        "<a href=\"https://colab.research.google.com/github/rbfromuae/Ineuronassigments/blob/main/Assignment4.ipynb\" target=\"_parent\"><img src=\"https://colab.research.google.com/assets/colab-badge.svg\" alt=\"Open In Colab\"/></a>"
      ]
    },
    {
      "cell_type": "markdown",
      "metadata": {
        "id": "cgqRZ-CHmpTb"
      },
      "source": [
        "Write a Python Program(with class concepts) to find the area of the triangle using the below\n",
        "formula.\n",
        "area = (s*(s-a)*(s-b)*(s-c)) ** 0.5\n",
        "Function to take the length of the sides of triangle from user should be defined in the parent\n",
        "class and function to calculate the area should be defined in subclass."
      ]
    },
    {
      "cell_type": "code",
      "metadata": {
        "id": "RxeCpYPJmlhc"
      },
      "source": [
        "class polygon :\n",
        "  def __init__(self,a,b,c) :\n",
        "    self.a=a\n",
        "    self.b=b\n",
        "    self.c=c"
      ],
      "execution_count": null,
      "outputs": []
    },
    {
      "cell_type": "code",
      "metadata": {
        "id": "FSkdK_5vzLYH"
      },
      "source": [
        "class triangle(polygon) :\n",
        "  def __init__(self,a,b,c) :\n",
        "    super().__init__(a,b,c)\n",
        "    \n",
        "  def area(self) :\n",
        "    s=(self.a+self.b+self.c)/2\n",
        "    ar=s*(s-self.a)*(s-self.b)*(s-self.c)*0.5\n",
        "    return ar\n",
        "\n",
        "  def get_side(self) :\n",
        "    return self.b\n",
        "   "
      ],
      "execution_count": 20,
      "outputs": []
    },
    {
      "cell_type": "code",
      "metadata": {
        "colab": {
          "base_uri": "https://localhost:8080/"
        },
        "id": "wqPB8BkvkD88",
        "outputId": "2a6e6c87-b422-4e32-9a69-ca04466b1b8b"
      },
      "source": [
        "areatri=triangle(3,4,5)\n",
        "areatri.area()\n"
      ],
      "execution_count": 21,
      "outputs": [
        {
          "output_type": "execute_result",
          "data": {
            "text/plain": [
              "18.0"
            ]
          },
          "metadata": {
            "tags": []
          },
          "execution_count": 21
        }
      ]
    },
    {
      "cell_type": "markdown",
      "metadata": {
        "id": "umqwGBzKl1H0"
      },
      "source": [
        "Write a function filter_long_words() that takes a list of words and an integer n and returns\n",
        "the list of words that are longer than n"
      ]
    },
    {
      "cell_type": "code",
      "metadata": {
        "id": "2f_XdXwC-m86"
      },
      "source": [
        "def filter_long_words(l,n) :\n",
        " \n",
        "  for i in l:\n",
        "    if len(i) >n :\n",
        "      print(i)\n"
      ],
      "execution_count": null,
      "outputs": []
    },
    {
      "cell_type": "code",
      "metadata": {
        "colab": {
          "base_uri": "https://localhost:8080/"
        },
        "id": "gqmrynd-_IgX",
        "outputId": "18e00d30-7456-4ed9-a716-9ac046f40fe5"
      },
      "source": [
        "l=['ram','sita','jesus','mohammed']\n",
        "filter_long_words(l,4)"
      ],
      "execution_count": null,
      "outputs": [
        {
          "output_type": "stream",
          "text": [
            "jesus\n",
            "mohammed\n"
          ],
          "name": "stdout"
        }
      ]
    },
    {
      "cell_type": "code",
      "metadata": {
        "id": "F_h1jX0i_sDe"
      },
      "source": [
        "def long_words(l) :\n",
        "    l1=[]\n",
        "    for i in l:\n",
        "       l1.append(len(i))\n",
        "    print(l1)\n"
      ],
      "execution_count": null,
      "outputs": []
    },
    {
      "cell_type": "markdown",
      "metadata": {
        "id": "L0Zx39bxmbVR"
      },
      "source": [
        "Write a Python program using function concept that maps list of words into a list of integers\n",
        "representing the lengths of the corresponding words."
      ]
    },
    {
      "cell_type": "code",
      "metadata": {
        "colab": {
          "base_uri": "https://localhost:8080/"
        },
        "id": "LbPOxPXQAz37",
        "outputId": "dfd15acb-074a-419d-ebc2-f71efedad76c"
      },
      "source": [
        "l=['ram','sita','jesus','mohammed']\n",
        "long_words(l)"
      ],
      "execution_count": null,
      "outputs": [
        {
          "output_type": "stream",
          "text": [
            "[3, 4, 5, 8]\n"
          ],
          "name": "stdout"
        }
      ]
    },
    {
      "cell_type": "markdown",
      "metadata": {
        "id": "OBrYBfmJmQyn"
      },
      "source": [
        "Write a Python function which takes a character (i.e. a string of length 1) and returns True if\n",
        "it is a vowel, False otherwise."
      ]
    },
    {
      "cell_type": "code",
      "metadata": {
        "id": "H3-coAGTBASC"
      },
      "source": [
        "def vowel(l) :\n",
        "     if len(l) >1 :\n",
        "      print('input length is greater than 1')\n",
        "     elif l in ('a','A','e','E','i','I','O','o','U','u') :\n",
        "      print(True)\n",
        "     else :\n",
        "      print(False)  "
      ],
      "execution_count": null,
      "outputs": []
    },
    {
      "cell_type": "code",
      "metadata": {
        "colab": {
          "base_uri": "https://localhost:8080/"
        },
        "id": "ZSIxSrg9B2Ow",
        "outputId": "62c59fea-eb3d-462f-d5d8-7a5482798443"
      },
      "source": [
        "vowel('k')"
      ],
      "execution_count": null,
      "outputs": [
        {
          "output_type": "stream",
          "text": [
            "False\n"
          ],
          "name": "stdout"
        }
      ]
    }
  ]
}