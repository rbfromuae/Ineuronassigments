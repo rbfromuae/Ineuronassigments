{
 "cells": [
  {
   "cell_type": "code",
   "execution_count": 104,
   "metadata": {},
   "outputs": [],
   "source": [
    "#Write a function to compute 5/0 and use try/except to catch the exceptions.\n",
    "def compute(a,b) :\n",
    "    try :\n",
    "        return a/b;\n",
    "    except  :\n",
    "        print(\"exceptiion\")\n",
    "    finally :\n",
    "        print(\"Try /Except \")"
   ]
  },
  {
   "cell_type": "code",
   "execution_count": 105,
   "metadata": {},
   "outputs": [
    {
     "name": "stdout",
     "output_type": "stream",
     "text": [
      "exceptiion\n",
      "Try /Except \n"
     ]
    }
   ],
   "source": [
    "compute(5,0)"
   ]
  },
  {
   "cell_type": "markdown",
   "metadata": {},
   "source": [
    "#Implement a Python program to generate all sentences where subject is in\n",
    "#[\"Americans\", \"Indians\"] and verb is in [\"Play\", \"watch\"] and the object is in [\"Baseball\",\"cricket\"].\n",
    "\n",
    "Americans play Baseball.\n",
    "Americans play Cricket.\n",
    "Americans watch Baseball.\n",
    "Americans watch Cricket.\n",
    "Indians play Baseball.\n",
    "Indians play Cricket.\n",
    "Indians watch Baseball.\n",
    "Indians watch Cricket."
   ]
  },
  {
   "cell_type": "code",
   "execution_count": 110,
   "metadata": {},
   "outputs": [],
   "source": [
    "def test() :\n",
    "    \n",
    "    subjects=[\"American\",\"Indian\"]\n",
    "    verb=[\"Play\",\"Watch\"]\n",
    "    objects=[\"Baseball\",\"cricket\"]\n",
    "\n",
    "    for x in subjects :\n",
    "        for y in verb :\n",
    "             for z in objects :\n",
    "                  print(x+\" \"+y+\" \"+z)\n"
   ]
  },
  {
   "cell_type": "code",
   "execution_count": 111,
   "metadata": {},
   "outputs": [
    {
     "name": "stdout",
     "output_type": "stream",
     "text": [
      "American Play Baseball\n",
      "American Play cricket\n",
      "American Watch Baseball\n",
      "American Watch cricket\n",
      "Indian Play Baseball\n",
      "Indian Play cricket\n",
      "Indian Watch Baseball\n",
      "Indian Watch cricket\n"
     ]
    }
   ],
   "source": [
    "test()"
   ]
  },
  {
   "cell_type": "code",
   "execution_count": null,
   "metadata": {},
   "outputs": [],
   "source": []
  }
 ],
 "metadata": {
  "kernelspec": {
   "display_name": "Python 3",
   "language": "python",
   "name": "python3"
  },
  "language_info": {
   "codemirror_mode": {
    "name": "ipython",
    "version": 3
   },
   "file_extension": ".py",
   "mimetype": "text/x-python",
   "name": "python",
   "nbconvert_exporter": "python",
   "pygments_lexer": "ipython3",
   "version": "3.8.5"
  }
 },
 "nbformat": 4,
 "nbformat_minor": 4
}
